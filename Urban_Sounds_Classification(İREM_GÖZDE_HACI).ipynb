{
  "nbformat": 4,
  "nbformat_minor": 0,
  "metadata": {
    "colab": {
      "provenance": [],
      "authorship_tag": "ABX9TyNbdojZLlsah2Fm57RPtCsx",
      "include_colab_link": true
    },
    "kernelspec": {
      "name": "python3",
      "display_name": "Python 3"
    },
    "language_info": {
      "name": "python"
    }
  },
  "cells": [
    {
      "cell_type": "markdown",
      "metadata": {
        "id": "view-in-github",
        "colab_type": "text"
      },
      "source": [
        "<a href=\"https://colab.research.google.com/github/ghusers/Deep-Learning/blob/main/Urban_Sounds_Classification(%C4%B0REM_G%C3%96ZDE_HACI).ipynb\" target=\"_parent\"><img src=\"https://colab.research.google.com/assets/colab-badge.svg\" alt=\"Open In Colab\"/></a>"
      ]
    },
    {
      "cell_type": "markdown",
      "source": [
        "Kentsel Ses Sınıflandırması - Veri Ön İşleme"
      ],
      "metadata": {
        "id": "Q0xs4hrlAZDx"
      }
    },
    {
      "cell_type": "code",
      "source": [
        "# Fetch Data\n",
        "#downloading and extracting the dataset on colab's server\n",
        "import urllib.request\n",
        "urllib.request.urlretrieve (\"https://zenodo.org/record/1203745/files/UrbanSound8K.tar.gz\",\"a.tar.gz\")\n",
        "import tarfile\n",
        "tar = tarfile.open(\"a.tar.gz\")\n",
        "tar.extractall()\n",
        "tar.close()"
      ],
      "metadata": {
        "id": "JGtFx8LUAVZ5"
      },
      "execution_count": null,
      "outputs": []
    },
    {
      "cell_type": "code",
      "source": [
        "import pandas as pd\n",
        "import numpy as np\n",
        "import matplotlib.pyplot as plt\n",
        "import os\n",
        "from tqdm import tqdm"
      ],
      "metadata": {
        "id": "0PIG3DsRAgur"
      },
      "execution_count": null,
      "outputs": []
    },
    {
      "cell_type": "code",
      "source": [
        "#forming a panda dataframe from the metadata file\n",
        "data=pd.read_csv(\"UrbanSound8K/metadata/UrbanSound8K.csv\")"
      ],
      "metadata": {
        "id": "l_b-_214Agw7"
      },
      "execution_count": null,
      "outputs": []
    },
    {
      "cell_type": "code",
      "source": [
        "#head of the dataframe\n",
        "data.head()"
      ],
      "metadata": {
        "id": "nWcgfclvAk3X"
      },
      "execution_count": null,
      "outputs": []
    },
    {
      "cell_type": "code",
      "source": [
        "#count of datapoints in each of the folders\n",
        "data[\"fold\"].value_counts()"
      ],
      "metadata": {
        "id": "wen7wANyAk5o"
      },
      "execution_count": null,
      "outputs": []
    },
    {
      "cell_type": "markdown",
      "source": [
        "Data Visualisation"
      ],
      "metadata": {
        "id": "hvBhv5JQBzNl"
      }
    },
    {
      "cell_type": "code",
      "source": [
        "from librosa import display\n",
        "import librosa"
      ],
      "metadata": {
        "id": "YWF9c0H4B0AR"
      },
      "execution_count": null,
      "outputs": []
    },
    {
      "cell_type": "code",
      "source": [
        "#feature set\n",
        "#This file is of a dog bark\n",
        "y,sr=librosa.load(\"UrbanSound8K/audio/fold5/100032-3-0-0.wav\")\n",
        "mfccs = librosa.feature.mfcc(y, sr, n_mfcc=40)\n",
        "melspectrogram =librosa.feature.melspectrogram(y=y, sr=sr, n_mels=40,fmax=8000)\n",
        "chroma_stft=librosa.feature.chroma_stft(y=y, sr=sr,n_chroma=40)\n",
        "chroma_cq =librosa.feature.chroma_cqt(y=y, sr=sr,n_chroma=40)\n",
        "chroma_cens =librosa.feature.chroma_cens(y=y, sr=sr,n_chroma=40)\n",
        "melspectrogram.shape,chroma_stft.shape,chroma_cq.shape,chroma_cens.shape,mfccs.shape"
      ],
      "metadata": {
        "id": "QWdhV0KVB0Eb"
      },
      "execution_count": null,
      "outputs": []
    },
    {
      "cell_type": "code",
      "source": [
        "#MFCC of dog bark\n",
        "import matplotlib.pyplot as plt\n",
        "plt.figure(figsize=(10,4))\n",
        "librosa.display.specshow(mfccs, x_axis='time')\n",
        "plt.colorbar()\n",
        "plt.title('MFCC')\n",
        "plt.tight_layout()"
      ],
      "metadata": {
        "id": "wvFqsfKuB0G9"
      },
      "execution_count": null,
      "outputs": []
    },
    {
      "cell_type": "code",
      "source": [
        "#Melspectrogram of a dog bark\n",
        "plt.figure(figsize=(10,4))\n",
        "librosa.display.specshow(librosa.power_to_db(melspectrogram,ref=np.max),y_axis='mel', fmax=8000,x_axis='time')\n",
        "plt.colorbar(format='%+2.0f dB')\n",
        "plt.title('Mel spectrogram')\n",
        "plt.tight_layout()"
      ],
      "metadata": {
        "id": "4GburgZyB0JN"
      },
      "execution_count": null,
      "outputs": []
    },
    {
      "cell_type": "code",
      "source": [
        "#Chromagram of dog bark\n",
        "plt.figure(figsize=(10,4))\n",
        "librosa.display.specshow(chroma_stft, y_axis='chroma', x_axis='time')\n",
        "plt.colorbar()\n",
        "plt.title('Chromagram')\n",
        "plt.tight_layout()"
      ],
      "metadata": {
        "id": "qatPw87GAk7w"
      },
      "execution_count": null,
      "outputs": []
    },
    {
      "cell_type": "code",
      "source": [
        "#Chroma cqt of a dog bark\n",
        "plt.figure(figsize=(10,4))\n",
        "librosa.display.specshow(chroma_cq, y_axis='chroma', x_axis='time')\n",
        "plt.colorbar()\n",
        "plt.title('chroma_cqt')\n",
        "plt.tight_layout()"
      ],
      "metadata": {
        "id": "gHQ6K7VLB_Ek"
      },
      "execution_count": null,
      "outputs": []
    },
    {
      "cell_type": "code",
      "source": [
        "#Chroma cens of a dog bark\n",
        "plt.figure(figsize=(10,4))\n",
        "librosa.display.specshow(chroma_cens, y_axis='chroma', x_axis='time')\n",
        "plt.colorbar()\n",
        "plt.title('chroma_cens')\n",
        "plt.tight_layout()"
      ],
      "metadata": {
        "id": "pdq52EJWB_HL"
      },
      "execution_count": null,
      "outputs": []
    },
    {
      "cell_type": "markdown",
      "source": [
        "\n",
        "Veri Ön İşleme"
      ],
      "metadata": {
        "id": "LZ2b6_O0CK5p"
      }
    },
    {
      "cell_type": "code",
      "source": [
        "#feature set\n",
        "y,sr=librosa.load(\"UrbanSound8K/audio/fold5/100263-2-0-137.wav\")\n",
        "mfccs = np.mean(librosa.feature.mfcc(y, sr, n_mfcc=40).T,axis=0)\n",
        "melspectrogram = np.mean(librosa.feature.melspectrogram(y=y, sr=sr, n_mels=40,fmax=8000).T,axis=0)\n",
        "chroma_stft=np.mean(librosa.feature.chroma_stft(y=y, sr=sr,n_chroma=40).T,axis=0)\n",
        "chroma_cq = np.mean(librosa.feature.chroma_cqt(y=y, sr=sr,n_chroma=40).T,axis=0)\n",
        "chroma_cens = np.mean(librosa.feature.chroma_cens(y=y, sr=sr,n_chroma=40).T,axis=0)\n",
        "melspectrogram.shape,chroma_stft.shape,chroma_cq.shape,chroma_cens.shape,mfccs.shape"
      ],
      "metadata": {
        "id": "zac26IozB-BW"
      },
      "execution_count": null,
      "outputs": []
    },
    {
      "cell_type": "code",
      "source": [
        "#stacking and reshaping\n",
        "features=np.reshape(np.vstack((mfccs,melspectrogram,chroma_stft,chroma_cq,chroma_cens)),(40,5))\n",
        "features.shape"
      ],
      "metadata": {
        "id": "0IyD59McB-Ir"
      },
      "execution_count": null,
      "outputs": []
    },
    {
      "cell_type": "code",
      "source": [
        "#preprocessing using only mfcc\n",
        "x_train=[]\n",
        "x_test=[]\n",
        "y_train=[]\n",
        "y_test=[]\n",
        "path=\"UrbanSound8K/audio/fold\"\n",
        "for i in tqdm(range(len(data))):\n",
        "    fold_no=str(data.iloc[i][\"fold\"])\n",
        "    file=data.iloc[i][\"slice_file_name\"]\n",
        "    label=data.iloc[i][\"classID\"]\n",
        "    filename=path+fold_no+\"/\"+file\n",
        "    #print(filename)\n",
        "    y,sr=librosa.load(filename)\n",
        "    mfccs = np.mean(librosa.feature.mfcc(y, sr, n_mfcc=40).T,axis=0)\n",
        "    #print(mfccs.shape,mfccs.max(),mfccs.min())\n",
        "    if(fold_no!='10'):\n",
        "      x_train.append(mfccs)\n",
        "      y_train.append(label)\n",
        "    else:\n",
        "      x_test.append(mfccs)\n",
        "      y_test.append(label)"
      ],
      "metadata": {
        "id": "H8mM3GITDpRL"
      },
      "execution_count": null,
      "outputs": []
    },
    {
      "cell_type": "code",
      "source": [
        "#preprocessing using entire feature set\n",
        "x_train=[]\n",
        "x_test=[]\n",
        "y_train=[]\n",
        "y_test=[]\n",
        "path=\"UrbanSound8K/audio/fold\"\n",
        "for i in tqdm(range(len(data))):\n",
        "    fold_no=str(data.iloc[i][\"fold\"])\n",
        "    file=data.iloc[i][\"slice_file_name\"]\n",
        "    label=data.iloc[i][\"classID\"]\n",
        "    filename=path+fold_no+\"/\"+file\n",
        "    y,sr=librosa.load(filename)\n",
        "    mfccs = np.mean(librosa.feature.mfcc(y, sr, n_mfcc=40).T,axis=0)\n",
        "    melspectrogram = np.mean(librosa.feature.melspectrogram(y=y, sr=sr, n_mels=40,fmax=8000).T,axis=0)\n",
        "    chroma_stft=np.mean(librosa.feature.chroma_stft(y=y, sr=sr,n_chroma=40).T,axis=0)\n",
        "    chroma_cq = np.mean(librosa.feature.chroma_cqt(y=y, sr=sr,n_chroma=40).T,axis=0)\n",
        "    chroma_cens = np.mean(librosa.feature.chroma_cens(y=y, sr=sr,n_chroma=40).T,axis=0)\n",
        "    features=np.reshape(np.vstack((mfccs,melspectrogram,chroma_stft,chroma_cq,chroma_cens)),(40,5))\n",
        "    if(fold_no!='10'):\n",
        "      x_train.append(features)\n",
        "      y_train.append(label)\n",
        "    else:\n",
        "      x_test.append(features)\n",
        "      y_test.append(label)"
      ],
      "metadata": {
        "id": "kQOFx2DTDsK-"
      },
      "execution_count": null,
      "outputs": []
    },
    {
      "cell_type": "code",
      "source": [
        "len(x_train)+len(x_test)"
      ],
      "metadata": {
        "id": "Efa2LWh3DsNY"
      },
      "execution_count": null,
      "outputs": []
    },
    {
      "cell_type": "code",
      "source": [
        "len(data)"
      ],
      "metadata": {
        "id": "_t8Vy5TsDpTx"
      },
      "execution_count": null,
      "outputs": []
    },
    {
      "cell_type": "code",
      "source": [
        "#converting the lists into numpy arrays\n",
        "x_train=np.array(x_train)\n",
        "x_test=np.array(x_test)\n",
        "y_train=np.array(y_train)\n",
        "y_test=np.array(y_test)\n",
        "x_train.shape,x_test.shape,y_train.shape,y_test.shape"
      ],
      "metadata": {
        "id": "OrRrFJf2DpW0"
      },
      "execution_count": null,
      "outputs": []
    },
    {
      "cell_type": "code",
      "source": [
        "#reshaping into 2d to save in csv format\n",
        "x_train_2d=np.reshape(x_train,(x_train.shape[0],x_train.shape[1]*x_train.shape[2]))\n",
        "x_test_2d=np.reshape(x_test,(x_test.shape[0],x_test.shape[1]*x_test.shape[2]))\n",
        "x_train_2d.shape,x_test_2d.shape"
      ],
      "metadata": {
        "id": "ZIG2Eo2NAVcT"
      },
      "execution_count": null,
      "outputs": []
    },
    {
      "cell_type": "markdown",
      "source": [
        "İşlenmiş Verileri Depolama"
      ],
      "metadata": {
        "id": "IqMv0m_dD9NR"
      }
    },
    {
      "cell_type": "code",
      "source": [
        "#saving the data numpy arrays\n",
        "np.savetxt(\"train_data.csv\", x_train_2d, delimiter=\",\")\n",
        "np.savetxt(\"test_data.csv\",x_test_2d,delimiter=\",\")\n",
        "np.savetxt(\"train_labels.csv\",y_train,delimiter=\",\")\n",
        "np.savetxt(\"test_labels.csv\",y_test,delimiter=\",\")"
      ],
      "metadata": {
        "id": "i5ct7gVjD0FF"
      },
      "execution_count": null,
      "outputs": []
    },
    {
      "cell_type": "code",
      "source": [
        "#downloading the saved data from colab's server\n",
        "from google.colab import files\n",
        "\n",
        "files.download(\"train_data.csv\")\n",
        "files.download(\"test_data.csv\")\n",
        "files.download(\"train_labels.csv\")\n",
        "files.download(\"test_labels.csv\")"
      ],
      "metadata": {
        "id": "tSxgRzgQD0He"
      },
      "execution_count": null,
      "outputs": []
    },
    {
      "cell_type": "markdown",
      "source": [
        "\n",
        "Kentsel Ses Sınıflandırması - CNN Modeli İşlenmiş Veriler"
      ],
      "metadata": {
        "id": "-A20VaQqAQ3z"
      }
    },
    {
      "cell_type": "code",
      "source": [
        "import numpy as np"
      ],
      "metadata": {
        "id": "loEQJeux4tYE"
      },
      "execution_count": null,
      "outputs": []
    },
    {
      "cell_type": "code",
      "source": [
        "# csv dosyalarından numpy dizilerine veri çıkarma\n",
        "from numpy import genfromtxt\n",
        "x_train = genfromtxt('train_data.csv', delimiter=',')\n",
        "y_train = genfromtxt('train_labels.csv', delimiter=',')\n",
        "x_test = genfromtxt('test_data.csv', delimiter=',')\n",
        "y_test = genfromtxt('test_labels.csv', delimiter=',')"
      ],
      "metadata": {
        "id": "TEUUplyEAFZK"
      },
      "execution_count": null,
      "outputs": []
    },
    {
      "cell_type": "code",
      "source": [
        "#shape\n",
        "x_train.shape,x_test.shape,y_train.shape,y_test.shape"
      ],
      "metadata": {
        "id": "uiRyGtLi421k"
      },
      "execution_count": null,
      "outputs": []
    },
    {
      "cell_type": "code",
      "source": [
        "#converting to one hot\n",
        "from keras.utils.np_utils import to_categorical\n",
        "y_train = to_categorical(y_train, num_classes=10)\n",
        "y_test = to_categorical(y_test, num_classes=10)\n",
        "y_train.shape,y_test.shape"
      ],
      "metadata": {
        "id": "nr3Hruzo47vN"
      },
      "execution_count": null,
      "outputs": []
    },
    {
      "cell_type": "code",
      "source": [
        "#reshaping to 2D \n",
        "x_train=np.reshape(x_train,(x_train.shape[0], 40,5))\n",
        "x_test=np.reshape(x_test,(x_test.shape[0], 40,5))\n",
        "x_train.shape,x_test.shape"
      ],
      "metadata": {
        "id": "BUeacVwO4_-H"
      },
      "execution_count": null,
      "outputs": []
    },
    {
      "cell_type": "code",
      "source": [
        "#reshaping to shape required by CNN\n",
        "x_train=np.reshape(x_train,(x_train.shape[0], 40,5,1))\n",
        "x_test=np.reshape(x_test,(x_test.shape[0], 40,5,1))"
      ],
      "metadata": {
        "id": "wCc1Ea8w5iyA"
      },
      "execution_count": null,
      "outputs": []
    },
    {
      "cell_type": "code",
      "source": [
        "#shapes\n",
        "x_train.shape,x_test.shape"
      ],
      "metadata": {
        "id": "KvRiJRXG5kmQ"
      },
      "execution_count": null,
      "outputs": []
    },
    {
      "cell_type": "markdown",
      "source": [
        "MODEL KURMA"
      ],
      "metadata": {
        "id": "Z_UpjO1D5o-S"
      }
    },
    {
      "cell_type": "code",
      "source": [
        "\n",
        "from keras import Sequential\n",
        "from keras.layers import Dense,Conv2D,MaxPooling2D,Flatten,Dropout"
      ],
      "metadata": {
        "id": "Wekbd5tS5qfJ"
      },
      "execution_count": null,
      "outputs": []
    },
    {
      "cell_type": "code",
      "source": [
        "#forming model\n",
        "model=Sequential()"
      ],
      "metadata": {
        "id": "OFDxUaJ15ttY"
      },
      "execution_count": null,
      "outputs": []
    },
    {
      "cell_type": "code",
      "source": [
        "#adding layers and forming the model\n",
        "\n",
        "model.add(Conv2D(64,kernel_size=5,strides=1,padding=\"Same\",activation=\"relu\",input_shape=(40,5,1)))\n",
        "model.add(MaxPooling2D(padding=\"same\"))\n",
        "\n",
        "model.add(Conv2D(128,kernel_size=5,strides=1,padding=\"same\",activation=\"relu\"))\n",
        "model.add(MaxPooling2D(padding=\"same\"))\n",
        "model.add(Dropout(0.3))\n",
        "\n",
        "model.add(Flatten())\n",
        "\n",
        "model.add(Dense(256,activation=\"relu\"))\n",
        "model.add(Dropout(0.3))\n",
        "\n",
        "model.add(Dense(512,activation=\"relu\"))\n",
        "model.add(Dropout(0.3))\n",
        "\n",
        "model.add(Dense(10,activation=\"softmax\"))"
      ],
      "metadata": {
        "id": "fvoBbllF5vCu"
      },
      "execution_count": null,
      "outputs": []
    },
    {
      "cell_type": "code",
      "source": [
        "#compiling\n",
        "model.compile(optimizer=\"adam\",loss=\"categorical_crossentropy\",metrics=[\"accuracy\"])"
      ],
      "metadata": {
        "id": "x_9ankPD5ytS"
      },
      "execution_count": null,
      "outputs": []
    },
    {
      "cell_type": "markdown",
      "source": [
        "Training(EĞİTİM)"
      ],
      "metadata": {
        "id": "sHUgmoIJ6Res"
      }
    },
    {
      "cell_type": "code",
      "source": [
        "#training the model\n",
        "model.fit(x_train,y_train,batch_size=50,epochs=30,validation_data=(x_test,y_test))"
      ],
      "metadata": {
        "id": "QKHSnkmX6MUN"
      },
      "execution_count": null,
      "outputs": []
    },
    {
      "cell_type": "markdown",
      "source": [
        "Results(SONUÇLAR)"
      ],
      "metadata": {
        "id": "KcXan8-r6a49"
      }
    },
    {
      "cell_type": "code",
      "source": [
        "#train and test loss and scores respectively\n",
        "train_loss_score=model.evaluate(x_train,y_train)\n",
        "test_loss_score=model.evaluate(x_test,y_test)\n",
        "print(train_loss_score)\n",
        "print(test_loss_score)"
      ],
      "metadata": {
        "id": "7s_5iA6_6Mer"
      },
      "execution_count": null,
      "outputs": []
    }
  ]
}