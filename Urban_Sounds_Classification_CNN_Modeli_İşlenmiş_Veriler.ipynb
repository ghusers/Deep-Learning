{
  "nbformat": 4,
  "nbformat_minor": 0,
  "metadata": {
    "colab": {
      "provenance": []
    },
    "kernelspec": {
      "name": "python3",
      "display_name": "Python 3"
    },
    "language_info": {
      "name": "python"
    }
  },
  "cells": [
    {
      "cell_type": "markdown",
      "source": [
        "Urban Sounds Classification - CNN Modeli İşlenmiş Veriler"
      ],
      "metadata": {
        "id": "z22YW8GEP6wZ"
      }
    },
    {
      "cell_type": "code",
      "source": [
        "import numpy as np"
      ],
      "metadata": {
        "id": "FMBvfEeqP2xK"
      },
      "execution_count": null,
      "outputs": []
    },
    {
      "cell_type": "code",
      "source": [
        "# csv dosyalarından numpy dizilerine veri çıkarma\n",
        "from numpy import genfromtxt\n",
        "x_train = genfromtxt('train_data.csv', delimiter=',')\n",
        "y_train = genfromtxt('train_labels.csv', delimiter=',')\n",
        "x_test = genfromtxt('test_data.csv', delimiter=',')\n",
        "y_test = genfromtxt('test_labels.csv', delimiter=',')"
      ],
      "metadata": {
        "id": "tDEte8aCP268"
      },
      "execution_count": null,
      "outputs": []
    },
    {
      "cell_type": "code",
      "source": [
        "#shape\n",
        "x_train.shape,x_test.shape,y_train.shape,y_test.shape"
      ],
      "metadata": {
        "id": "sFVX8SFmP_Ds"
      },
      "execution_count": null,
      "outputs": []
    },
    {
      "cell_type": "code",
      "source": [
        "#converting to one hot\n",
        "from keras.utils.np_utils import to_categorical\n",
        "y_train = to_categorical(y_train, num_classes=10)\n",
        "y_test = to_categorical(y_test, num_classes=10)\n",
        "y_train.shape,y_test.shape"
      ],
      "metadata": {
        "id": "yvGwEBKeP_I-"
      },
      "execution_count": null,
      "outputs": []
    },
    {
      "cell_type": "code",
      "source": [
        "#reshaping to 2D \n",
        "x_train=np.reshape(x_train,(x_train.shape[0], 40,5))\n",
        "x_test=np.reshape(x_test,(x_test.shape[0], 40,5))\n",
        "x_train.shape,x_test.shape"
      ],
      "metadata": {
        "id": "_eC6fWAzP_PL"
      },
      "execution_count": null,
      "outputs": []
    },
    {
      "cell_type": "code",
      "source": [
        "#reshaping to shape required by CNN\n",
        "x_train=np.reshape(x_train,(x_train.shape[0], 40,5,1))\n",
        "x_test=np.reshape(x_test,(x_test.shape[0], 40,5,1))"
      ],
      "metadata": {
        "id": "jgay-VRXQSL5"
      },
      "execution_count": null,
      "outputs": []
    },
    {
      "cell_type": "code",
      "source": [
        "#shapes\n",
        "x_train.shape,x_test.shape"
      ],
      "metadata": {
        "id": "Ydtb4Pk2QSOG"
      },
      "execution_count": null,
      "outputs": []
    },
    {
      "cell_type": "markdown",
      "source": [
        "MODEL KURMA"
      ],
      "metadata": {
        "id": "R9dNaiu2QWnT"
      }
    },
    {
      "cell_type": "code",
      "source": [
        "from keras import Sequential\n",
        "from keras.layers import Dense,Conv2D,MaxPooling2D,Flatten,Dropout"
      ],
      "metadata": {
        "id": "7QeEGscwQSSR"
      },
      "execution_count": null,
      "outputs": []
    },
    {
      "cell_type": "code",
      "source": [
        "#forming model\n",
        "model=Sequential()"
      ],
      "metadata": {
        "id": "Fmn9YF6NQSVZ"
      },
      "execution_count": null,
      "outputs": []
    },
    {
      "cell_type": "code",
      "source": [
        "#adding layers and forming the model\n",
        "\n",
        "model.add(Conv2D(64,kernel_size=5,strides=1,padding=\"Same\",activation=\"relu\",input_shape=(40,5,1)))\n",
        "model.add(MaxPooling2D(padding=\"same\"))\n",
        "\n",
        "model.add(Conv2D(128,kernel_size=5,strides=1,padding=\"same\",activation=\"relu\"))\n",
        "model.add(MaxPooling2D(padding=\"same\"))\n",
        "model.add(Dropout(0.3))\n",
        "\n",
        "model.add(Flatten())\n",
        "\n",
        "model.add(Dense(256,activation=\"relu\"))\n",
        "model.add(Dropout(0.3))\n",
        "\n",
        "model.add(Dense(512,activation=\"relu\"))\n",
        "model.add(Dropout(0.3))\n",
        "\n",
        "model.add(Dense(10,activation=\"softmax\"))"
      ],
      "metadata": {
        "id": "Vsu6QrMdQSXY"
      },
      "execution_count": null,
      "outputs": []
    },
    {
      "cell_type": "code",
      "source": [
        "#compiling\n",
        "model.compile(optimizer=\"adam\",loss=\"categorical_crossentropy\",metrics=[\"accuracy\"])"
      ],
      "metadata": {
        "id": "8O7Q8BphQSZH"
      },
      "execution_count": null,
      "outputs": []
    },
    {
      "cell_type": "markdown",
      "source": [
        "Training(EĞİTİM)"
      ],
      "metadata": {
        "id": "372RZdm1QhUj"
      }
    },
    {
      "cell_type": "code",
      "source": [
        "#training the model\n",
        "model.fit(x_train,y_train,batch_size=50,epochs=30,validation_data=(x_test,y_test))"
      ],
      "metadata": {
        "id": "3nXm5wR3QScp"
      },
      "execution_count": null,
      "outputs": []
    },
    {
      "cell_type": "markdown",
      "source": [
        "Results(SONUÇLAR)"
      ],
      "metadata": {
        "id": "Z_48g4eZQk88"
      }
    },
    {
      "cell_type": "code",
      "source": [
        "#train and test loss and scores respectively\n",
        "train_loss_score=model.evaluate(x_train,y_train)\n",
        "test_loss_score=model.evaluate(x_test,y_test)\n",
        "print(train_loss_score)\n",
        "print(test_loss_score)"
      ],
      "metadata": {
        "id": "rCKJ5-dgQSem"
      },
      "execution_count": null,
      "outputs": []
    }
  ]
}